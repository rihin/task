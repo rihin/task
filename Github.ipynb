{
 "cells": [
  {
   "cell_type": "markdown",
   "id": "9a2cd5ce",
   "metadata": {},
   "source": [
    "# Object Oriented Programming Concepts"
   ]
  },
  {
   "cell_type": "code",
   "execution_count": 19,
   "id": "bbdb9530",
   "metadata": {},
   "outputs": [],
   "source": [
    "#Class \n",
    "\n",
    "class Employee:\n",
    "    def __init__(self,name,age,salary,gender):\n",
    "        self.name = name \n",
    "        self.age = age\n",
    "        self.salary = salary\n",
    "        self.gender = gender\n",
    "        \n",
    "    def show_employee_details(self):\n",
    "        print(\"Name of Employee\", self.name)\n",
    "        print(\"Age of Employee\", self.age)\n",
    "        print(\"Salary of Employee is =\", self.salary)\n",
    "        print(\"Gender of Employee\", self.gender)"
   ]
  },
  {
   "cell_type": "code",
   "execution_count": 20,
   "id": "4a96d607",
   "metadata": {},
   "outputs": [],
   "source": [
    "#Object \n",
    "\n",
    "e1 = Employee('Roy',23,50000,'Male')"
   ]
  },
  {
   "cell_type": "code",
   "execution_count": 21,
   "id": "e4f8c4d3",
   "metadata": {},
   "outputs": [
    {
     "name": "stdout",
     "output_type": "stream",
     "text": [
      "Name of Employee Roy\n",
      "Age of Employee 23\n",
      "Salary of Employee is = 50000\n",
      "Gender of Employee Male\n"
     ]
    }
   ],
   "source": [
    "e1.show_employee_details()"
   ]
  },
  {
   "cell_type": "code",
   "execution_count": 4,
   "id": "f26a73a9",
   "metadata": {},
   "outputs": [],
   "source": [
    "# Inheritance \n",
    "\n",
    "class Vehicle:\n",
    "    def __init__(self,mileage,cost):\n",
    "        self.mileage = mileage\n",
    "        self.cost = cost\n",
    "    \n",
    "    def vehicle_details(self):\n",
    "        print(\"Mileage\", self.mileage)\n",
    "        print(\"Cost\", self.cost)"
   ]
  },
  {
   "cell_type": "code",
   "execution_count": 5,
   "id": "de4b9309",
   "metadata": {},
   "outputs": [],
   "source": [
    "v1 = Vehicle(25,1000)"
   ]
  },
  {
   "cell_type": "code",
   "execution_count": 6,
   "id": "e4d4c3ad",
   "metadata": {},
   "outputs": [
    {
     "name": "stdout",
     "output_type": "stream",
     "text": [
      "Mileage 25\n",
      "Cost 1000\n"
     ]
    }
   ],
   "source": [
    "v1.vehicle_details()"
   ]
  },
  {
   "cell_type": "code",
   "execution_count": 7,
   "id": "f13baac1",
   "metadata": {},
   "outputs": [],
   "source": [
    "class Car(Vehicle):\n",
    "    def show_car_details(self):\n",
    "        print(\"Car\")"
   ]
  },
  {
   "cell_type": "code",
   "execution_count": 8,
   "id": "85b01875",
   "metadata": {},
   "outputs": [],
   "source": [
    "c1 = Car(30,1200)"
   ]
  },
  {
   "cell_type": "code",
   "execution_count": 9,
   "id": "3df13f1d",
   "metadata": {},
   "outputs": [
    {
     "name": "stdout",
     "output_type": "stream",
     "text": [
      "Car\n"
     ]
    }
   ],
   "source": [
    "c1.show_car_details()"
   ]
  },
  {
   "cell_type": "code",
   "execution_count": 10,
   "id": "74e891dc",
   "metadata": {},
   "outputs": [
    {
     "name": "stdout",
     "output_type": "stream",
     "text": [
      "Mileage 30\n",
      "Cost 1200\n"
     ]
    }
   ],
   "source": [
    "c1.vehicle_details()"
   ]
  },
  {
   "cell_type": "code",
   "execution_count": 11,
   "id": "60287a56",
   "metadata": {},
   "outputs": [],
   "source": [
    "# Polymorphism\n",
    "\n",
    "class Car(Vehicle):\n",
    "    def __init__(self,mileage,cost,tyres,hp):\n",
    "        super().__init__(mileage,cost)\n",
    "        self.tyres = tyres\n",
    "        self.hp = hp\n",
    "\n",
    "    def show_car_details(self):\n",
    "        print(\"Car\")\n",
    "        print(\"Tyres\",self.tyres)\n",
    "        print(\"Horse Power\",self.hp)"
   ]
  },
  {
   "cell_type": "code",
   "execution_count": 12,
   "id": "87b8b8d6",
   "metadata": {},
   "outputs": [],
   "source": [
    "c1 = Car(30,1300,4,500)"
   ]
  },
  {
   "cell_type": "code",
   "execution_count": 13,
   "id": "477b2769",
   "metadata": {},
   "outputs": [
    {
     "name": "stdout",
     "output_type": "stream",
     "text": [
      "Car\n",
      "Tyres 4\n",
      "Horse Power 500\n"
     ]
    }
   ],
   "source": [
    "c1.show_car_details()"
   ]
  },
  {
   "cell_type": "code",
   "execution_count": 14,
   "id": "f554fa2b",
   "metadata": {},
   "outputs": [
    {
     "name": "stdout",
     "output_type": "stream",
     "text": [
      "Mileage 30\n",
      "Cost 1300\n"
     ]
    }
   ],
   "source": [
    "c1.vehicle_details()"
   ]
  },
  {
   "cell_type": "code",
   "execution_count": 15,
   "id": "efe6f355",
   "metadata": {},
   "outputs": [
    {
     "name": "stdout",
     "output_type": "stream",
     "text": [
      "eat non veg\n",
      "eat veg\n"
     ]
    }
   ],
   "source": [
    "from abc import ABC, abstractmethod \n",
    "\n",
    "class Animal(ABC):\n",
    "    \n",
    "    @abstractmethod\n",
    "    def eat(self):\n",
    "        pass\n",
    "\n",
    "class Tiger(Animal):\n",
    "    def eat(self):\n",
    "        print(\"eat non veg\")\n",
    "    \n",
    "class Cow(Animal):\n",
    "    def eat(self):\n",
    "        print(\"eat veg\")\n",
    "        \n",
    "t = Tiger()\n",
    "t.eat()\n",
    "    \n",
    "c = Cow()\n",
    "c.eat()"
   ]
  },
  {
   "cell_type": "code",
   "execution_count": 16,
   "id": "aa23e543",
   "metadata": {},
   "outputs": [],
   "source": [
    "#Encapsulation\n",
    "\n",
    "class Employee:\n",
    "    def __init__(self,name,__age,salary,gender):\n",
    "        self.name = name \n",
    "        self.__age = __age\n",
    "        self.salary = salary\n",
    "        self.gender = gender\n",
    "        \n",
    "    def show_employee_details(self):\n",
    "        print(\"Name of Employee\", self.name)\n",
    "        print(\"Age of Employee\", self._Employee__age)\n",
    "        print(\"Salary of Employee is =\", self.salary)\n",
    "        print(\"Gender of Employee\", self.gender)"
   ]
  },
  {
   "cell_type": "code",
   "execution_count": 17,
   "id": "b468c5e4",
   "metadata": {},
   "outputs": [],
   "source": [
    "E = Employee('ram',22,54000,'male')"
   ]
  },
  {
   "cell_type": "code",
   "execution_count": 18,
   "id": "25c5b1fe",
   "metadata": {},
   "outputs": [
    {
     "name": "stdout",
     "output_type": "stream",
     "text": [
      "Name of Employee ram\n",
      "Age of Employee 22\n",
      "Salary of Employee is = 54000\n",
      "Gender of Employee male\n"
     ]
    }
   ],
   "source": [
    "E.show_employee_details()"
   ]
  },
  {
   "cell_type": "code",
   "execution_count": null,
   "id": "aa23b210",
   "metadata": {},
   "outputs": [],
   "source": []
  }
 ],
 "metadata": {
  "kernelspec": {
   "display_name": "Python 3 (ipykernel)",
   "language": "python",
   "name": "python3"
  },
  "language_info": {
   "codemirror_mode": {
    "name": "ipython",
    "version": 3
   },
   "file_extension": ".py",
   "mimetype": "text/x-python",
   "name": "python",
   "nbconvert_exporter": "python",
   "pygments_lexer": "ipython3",
   "version": "3.9.12"
  }
 },
 "nbformat": 4,
 "nbformat_minor": 5
}
